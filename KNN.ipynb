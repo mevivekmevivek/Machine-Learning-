{
 "cells": [
  {
   "cell_type": "code",
   "execution_count": 1,
   "metadata": {},
   "outputs": [],
   "source": [
    "import numpy as np\n",
    "from collections import Counter\n",
    "import matplotlib.pyplot as plt\n",
    "import pandas as pd\n",
    "from sklearn.preprocessing import StandardScaler\n",
    "\n",
    "\n",
    "\n",
    "def compute_distance(x1, x2):\n",
    "        return np.sqrt(np.sum((x1 - x2)**2))\n",
    "\n",
    "\n",
    "class KNN_Classifier:\n",
    "\n",
    "    def __init__(self, k=1):\n",
    "        self.k = k\n",
    "\n",
    "    def fit(self, X, y):\n",
    "        self.X_train = X\n",
    "        self.y_train = y\n",
    "\n",
    "    def predict(self, X):\n",
    "        y_pred = [self.predict_label(x) for x in X]\n",
    "        return np.array(y_pred)\n",
    "\n",
    "    def predict_label(self, x):\n",
    "        distances = [compute_distance(x, x_train) for x_train in self.X_train]# calculating distance from one datapoint to all samples\n",
    "        k_index = np.argsort(distances)[:self.k]# Sorting and returning indices of the first k neighbors\n",
    "        # getting the labels\n",
    "        k_labels = [self.y_train[i] for i in k_index]  \n",
    "        # returning the most common labels\n",
    "        most_common = Counter(k_labels).most_common(1)\n",
    "        return most_common[0][0]"
   ]
  },
  {
   "cell_type": "markdown",
   "metadata": {},
   "source": [
    "# MULTI CLASS CLASSIFICATION WITH HIGH DIMENSIONS (784)"
   ]
  },
  {
   "cell_type": "code",
   "execution_count": 2,
   "metadata": {},
   "outputs": [],
   "source": [
    "\n",
    "#using the MNIST DATASET\n",
    "\n",
    "train = pd.read_csv(\"C://Users//vivek//Desktop//bigdata//MAchine learning//mnist_train.csv\", header = None)\n",
    "test = pd.read_csv(\"C://Users//vivek//Desktop//bigdata//MAchine learning//mnist_test.csv\", header = None)\n",
    "\n",
    "y_tr = train[0]\n",
    "x_tr = train.drop([0], axis =1)\n",
    "x_tr.shape \n",
    "x = np.array(x_tr.iloc[:,:])\n",
    "y = np.array(y_tr)\n",
    "y=y.astype('int')\n",
    "\n",
    "y_te = test[0]\n",
    "x_te = test.drop([0], axis =1)\n",
    "x_test = np.array(x_te.iloc[:,:])\n",
    "y_test = np.array(y_te)\n",
    "\n",
    "#------x, y are the train datasets x_test and y_test are the test datasets \n"
   ]
  },
  {
   "cell_type": "code",
   "execution_count": 3,
   "metadata": {},
   "outputs": [
    {
     "name": "stdout",
     "output_type": "stream",
     "text": [
      "[0.928, 0.928, 0.926, 0.926, 0.93, 0.934, 0.928, 0.928, 0.932]\n"
     ]
    }
   ],
   "source": [
    "from sklearn import metrics\n",
    "from sklearn.metrics import accuracy_score\n",
    "accuracy = []\n",
    "\n",
    "# selecting the best K\n",
    "\n",
    "for i in range(1,10):\n",
    "    Knn = KNN_Classifier(k=i)\n",
    "    Knn.fit(x,y)\n",
    "    predictions = Knn.predict(x_test)\n",
    "\n",
    "\n",
    "    acc = accuracy_score(y_test ,predictions)\n",
    "    accuracy.append(acc)\n",
    "    \n",
    "print(accuracy)"
   ]
  },
  {
   "cell_type": "code",
   "execution_count": null,
   "metadata": {},
   "outputs": [],
   "source": []
  },
  {
   "cell_type": "markdown",
   "metadata": {},
   "source": [
    "# MULTI CLASS CLASSIFICATION WITH REDUCED DIMENSIONS (120)"
   ]
  },
  {
   "cell_type": "code",
   "execution_count": 4,
   "metadata": {},
   "outputs": [],
   "source": [
    "from sklearn.decomposition import PCA\n",
    "pca = PCA(n_components=120)\n",
    "principalComponents = pca.fit_transform(x)\n",
    "principalComponents_test = pca.transform(x_test)\n"
   ]
  },
  {
   "cell_type": "code",
   "execution_count": 5,
   "metadata": {},
   "outputs": [
    {
     "name": "stdout",
     "output_type": "stream",
     "text": [
      "[0.937, 0.937, 0.931, 0.935, 0.941, 0.931, 0.933, 0.932, 0.934]\n"
     ]
    }
   ],
   "source": [
    "\n",
    "reduced_dimension_accuracy = []\n",
    "# selecting the best K\n",
    "\n",
    "for i in range(1,10):\n",
    "    Knn = KNN_Classifier(k=i)\n",
    "    Knn.fit(principalComponents,y)\n",
    "    predictions1 = Knn.predict(principalComponents_test)\n",
    "\n",
    "\n",
    "    acc1 = accuracy_score(y_test ,predictions1)\n",
    "    reduced_dimension_accuracy.append(acc1)\n",
    "    \n",
    "print(reduced_dimension_accuracy)"
   ]
  },
  {
   "cell_type": "code",
   "execution_count": 6,
   "metadata": {},
   "outputs": [
    {
     "data": {
      "image/png": "[encoded data removed]",
      "text/plain": [
       "<Figure size 432x288 with 1 Axes>"
      ]
     },
     "metadata": {
      "needs_background": "light"
     },
     "output_type": "display_data"
    }
   ],
   "source": [
    "l1=[1,2,3,4,5,6,7,8,9]\n",
    "plt.plot(l1,accuracy,label='Accuracy- 784')\n",
    "plt.plot(l1,reduced_dimension_accuracy,label='Accuracy- 120')\n",
    "\n",
    "plt.legend()\n",
    "plt.xlabel(\" K Values\")\n",
    "plt.ylabel(\" Accuracy\")\n",
    "\n",
    "plt.show()"
   ]
  },
  {
   "cell_type": "markdown",
   "metadata": {},
   "source": [
    "# BINARY CLASSIFICATION"
   ]
  },
  {
   "cell_type": "code",
   "execution_count": null,
   "metadata": {},
   "outputs": [],
   "source": []
  },
  {
   "cell_type": "code",
   "execution_count": 7,
   "metadata": {},
   "outputs": [],
   "source": [
    "#using the BREAST CANCER DATASET\n",
    "\n",
    "train = pd.read_csv(\"C://Users//vivek//Desktop//bigdata//wdbc_data.csv\", header = None)\n",
    "y_tr = train[1]\n",
    "x_tr = train.drop([0,1], axis =1)\n",
    "x_tr.shape \n",
    "x_tr1 = np.array(x_tr.iloc[:,:])\n",
    "y_tr1 = np.array(y_tr)\n",
    "y_tr1[y_tr1 == 'B'] = 1 \n",
    "y_tr1[y_tr1 == 'M'] = -1 \n",
    "y_tr1=y_tr1.astype('int')\n",
    "    \n",
    "    \n",
    "from sklearn.model_selection import train_test_split\n",
    "\n",
    "X_train, X_test,Y_train,Y_test = train_test_split(x_tr1,y_tr1,test_size=0.2 )"
   ]
  },
  {
   "cell_type": "code",
   "execution_count": 8,
   "metadata": {},
   "outputs": [
    {
     "name": "stdout",
     "output_type": "stream",
     "text": [
      "(455, 30)\n",
      "(114, 30)\n"
     ]
    }
   ],
   "source": [
    "print(X_train.shape)\n",
    "print(X_test.shape)"
   ]
  },
  {
   "cell_type": "code",
   "execution_count": 9,
   "metadata": {},
   "outputs": [
    {
     "name": "stdout",
     "output_type": "stream",
     "text": [
      "[0.9122807017543859, 0.9122807017543859, 0.9035087719298246, 0.9210526315789473, 0.9298245614035088, 0.9210526315789473, 0.9298245614035088, 0.9298245614035088, 0.9298245614035088, 0.9298245614035088, 0.9298245614035088, 0.9298245614035088, 0.9385964912280702, 0.9298245614035088]\n"
     ]
    }
   ],
   "source": [
    "Binary_accuracy = []\n",
    "# selecting the best K\n",
    "\n",
    "for i in range(1,15):\n",
    "    Knn = KNN_Classifier(k=i)\n",
    "    Knn.fit(X_train,Y_train)\n",
    "    predictions2 = Knn.predict(X_test)\n",
    "\n",
    "\n",
    "    acc2 = accuracy_score(Y_test ,predictions2)\n",
    "    Binary_accuracy.append(acc2)\n",
    "    \n",
    "print(Binary_accuracy)"
   ]
  },
  {
   "cell_type": "code",
   "execution_count": 10,
   "metadata": {},
   "outputs": [
    {
     "name": "stdout",
     "output_type": "stream",
     "text": [
      "0.9385964912280702\n"
     ]
    }
   ],
   "source": [
    "print(max(Binary_accuracy))"
   ]
  },
  {
   "cell_type": "markdown",
   "metadata": {},
   "source": [
    "# IMPACT OF STANDARDIZATION & NORMALIZATION"
   ]
  },
  {
   "cell_type": "code",
   "execution_count": 11,
   "metadata": {},
   "outputs": [],
   "source": [
    "\n",
    "scaler = StandardScaler()\n",
    "scaler.fit(X_train )\n",
    "X_train1= scaler.transform(X_train)\n",
    "\n",
    "scaler.fit(X_test )\n",
    "X_test1= scaler.transform(X_test)\n"
   ]
  },
  {
   "cell_type": "code",
   "execution_count": 12,
   "metadata": {},
   "outputs": [
    {
     "name": "stdout",
     "output_type": "stream",
     "text": [
      "[0.956140350877193, 0.956140350877193, 0.9649122807017544, 0.9649122807017544, 0.9649122807017544, 0.956140350877193, 0.9736842105263158, 0.9649122807017544, 0.9736842105263158, 0.9736842105263158, 0.9736842105263158, 0.9736842105263158, 0.9824561403508771, 0.9824561403508771]\n"
     ]
    }
   ],
   "source": [
    "Binary_accuracy2 = []\n",
    "# selecting the best K\n",
    "\n",
    "for i in range(1,15):\n",
    "    Knn = KNN_Classifier(k=i)\n",
    "    Knn.fit(X_train1,Y_train)\n",
    "    predictions3 = Knn.predict(X_test1)\n",
    "\n",
    "\n",
    "    acc3 = accuracy_score(Y_test ,predictions3)\n",
    "    Binary_accuracy2.append(acc3)\n",
    "    \n",
    "print(Binary_accuracy2)"
   ]
  },
  {
   "cell_type": "code",
   "execution_count": 13,
   "metadata": {},
   "outputs": [
    {
     "name": "stdout",
     "output_type": "stream",
     "text": [
      "0.9824561403508771\n"
     ]
    }
   ],
   "source": [
    "print(max(Binary_accuracy2))"
   ]
  },
  {
   "cell_type": "code",
   "execution_count": 21,
   "metadata": {},
   "outputs": [
    {
     "data": {
      "image/png": "[encoded data removed]",
      "text/plain": [
       "<Figure size 432x288 with 1 Axes>"
      ]
     },
     "metadata": {
      "needs_background": "light"
     },
     "output_type": "display_data"
    }
   ],
   "source": [
    "l2=[1,2,3,4,5,6,7,8,9,10,11,12,13,14]\n",
    "plt.plot(l2,Binary_accuracy,label='Accuracy')\n",
    "plt.plot(l2,Binary_accuracy2,label='Accuracy-Standardized')\n",
    "\n",
    "plt.legend()\n",
    "plt.xlabel(\" K Values\")\n",
    "plt.ylabel(\" Accuracy\")\n",
    "\n",
    "plt.show()"
   ]
  },
  {
   "cell_type": "markdown",
   "metadata": {},
   "source": [
    "# USING AN IMBALANCED DATASET"
   ]
  },
  {
   "cell_type": "code",
   "execution_count": 18,
   "metadata": {},
   "outputs": [],
   "source": [
    "#using the BREAST CANCER DATASET\n",
    "\n",
    "train_IB = pd.read_csv(\"C://Users//vivek//Desktop//bigdata//MAchine learning//wdbc_IB.csv\", header = None)\n",
    "y_tr_IB = train_IB[1]\n",
    "x_tr_IB = train_IB.drop([0,1], axis =1)\n",
    "x_tr_IB.shape \n",
    "x_tr1_IB = np.array(x_tr_IB.iloc[:,:])\n",
    "y_tr1_IB = np.array(y_tr_IB)\n",
    "y_tr1_IB[y_tr1_IB == 'B'] = 1 \n",
    "y_tr1_IB[y_tr1_IB == 'M'] = -1 \n",
    "y_tr1_IB=y_tr1_IB.astype('int')\n",
    "    \n",
    "    \n",
    "from sklearn.model_selection import train_test_split\n",
    "\n",
    "X_train_IB, X_test_IB,Y_train_IB,Y_test_IB = train_test_split(x_tr1_IB,y_tr1_IB,test_size=0.2 )"
   ]
  },
  {
   "cell_type": "code",
   "execution_count": 19,
   "metadata": {},
   "outputs": [
    {
     "name": "stdout",
     "output_type": "stream",
     "text": [
      "[0.9878048780487805, 0.9878048780487805, 0.9878048780487805, 0.9878048780487805, 0.9878048780487805, 0.9878048780487805, 0.9878048780487805, 0.9878048780487805, 0.9634146341463414, 0.9634146341463414, 0.9634146341463414, 0.975609756097561, 0.9512195121951219, 0.9634146341463414]\n"
     ]
    }
   ],
   "source": [
    "Binary_accuracy_IB = []\n",
    "# selecting the best K\n",
    "\n",
    "#scaler.fit(X_train )\n",
    "#X_train_IB= scaler.transform(X_train_IB)\n",
    "\n",
    "#scaler.fit(X_test_IB )\n",
    "#X_test_IB= scaler.transform(X_test_IB)\n",
    "\n",
    "\n",
    "for i in range(1,15):\n",
    "    Knn = KNN_Classifier(k=i)\n",
    "    Knn.fit(X_train_IB,Y_train_IB)\n",
    "    predictions5 = Knn.predict(X_test_IB)\n",
    "\n",
    "\n",
    "    acc5 = accuracy_score(Y_test_IB ,predictions5)\n",
    "    Binary_accuracy_IB.append(acc5)\n",
    "    \n",
    "print(Binary_accuracy_IB)"
   ]
  },
  {
   "cell_type": "code",
   "execution_count": 20,
   "metadata": {},
   "outputs": [
    {
     "name": "stdout",
     "output_type": "stream",
     "text": [
      "0.9878048780487805\n"
     ]
    }
   ],
   "source": [
    "print(max(Binary_accuracy_IB))"
   ]
  },
  {
   "cell_type": "code",
   "execution_count": null,
   "metadata": {},
   "outputs": [],
   "source": []
  }
 ],
 "metadata": {
  "kernelspec": {
   "display_name": "Python 3",
   "language": "python",
   "name": "python3"
  },
  "language_info": {
   "codemirror_mode": {
    "name": "ipython",
    "version": 3
   },
   "file_extension": ".py",
   "mimetype": "text/x-python",
   "name": "python",
   "nbconvert_exporter": "python",
   "pygments_lexer": "ipython3",
   "version": "3.8.3"
  }
 },
 "nbformat": 4,
 "nbformat_minor": 4
}
